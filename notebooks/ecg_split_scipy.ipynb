{
  "nbformat": 4,
  "nbformat_minor": 0,
  "metadata": {
    "colab": {
      "provenance": [],
      "mount_file_id": "https://github.com/JennEYoon/ECG-transform/blob/main/notebooks/ecg_split_scipy.ipynb",
      "authorship_tag": "ABX9TyMuBKmqoFsSVssRxnhPEj6r",
      "include_colab_link": true
    },
    "kernelspec": {
      "name": "python3",
      "display_name": "Python 3"
    },
    "language_info": {
      "name": "python"
    }
  },
  "cells": [
    {
      "cell_type": "markdown",
      "metadata": {
        "id": "view-in-github",
        "colab_type": "text"
      },
      "source": [
        "<a href=\"https://colab.research.google.com/github/JennEYoon/ECG-transform/blob/main/notebooks/ecg_split_scipy.ipynb\" target=\"_parent\"><img src=\"https://colab.research.google.com/assets/colab-badge.svg\" alt=\"Open In Colab\"/></a>"
      ]
    },
    {
      "cell_type": "markdown",
      "source": [
        "## ECG data, simple plit test, using SciPy library  \n",
        "PTB-XL data, 1st patient from g1 folder.  \n",
        "Author: Jennifer Yoon  \n",
        "Date: Dec 22, 2024 10:30pm start."
      ],
      "metadata": {
        "id": "8Q-bkkA8J2r8"
      }
    },
    {
      "cell_type": "code",
      "source": [
        "file1 = \"HR00001.mat\"\n",
        "file2= \"HR00001.hea\"\n",
        "path1 = \"/content/drive/MyDrive/data/ECG-transform/data/ptb-xl/g1\""
      ],
      "metadata": {
        "id": "ImAsxKD6HfoS"
      },
      "execution_count": 9,
      "outputs": []
    },
    {
      "cell_type": "code",
      "source": [
        "!cp /content/drive/MyDrive/data/ECG-transform/data/ptb-xl/g1/HR00001.mat .\n",
        "!cp /content/drive/MyDrive/data/ECG-transform/data/ptb-xl/g1/HR00001.hea .\n",
        "!ls"
      ],
      "metadata": {
        "id": "a31XnVQzKUST",
        "outputId": "1032de3a-e080-44d7-d7ba-6879a08df3c3",
        "colab": {
          "base_uri": "https://localhost:8080/"
        }
      },
      "execution_count": 8,
      "outputs": [
        {
          "output_type": "stream",
          "name": "stdout",
          "text": [
            "drive  HR00001.hea  HR00001.mat  sample_data\n"
          ]
        }
      ]
    },
    {
      "cell_type": "code",
      "source": [
        "# figure out later how to use variable file names and path."
      ],
      "metadata": {
        "id": "HwRc1gktKUU6"
      },
      "execution_count": 10,
      "outputs": []
    },
    {
      "cell_type": "code",
      "source": [],
      "metadata": {
        "id": "S-dGzKPMKUX6"
      },
      "execution_count": null,
      "outputs": []
    },
    {
      "cell_type": "code",
      "source": [],
      "metadata": {
        "id": "sw1StmwKKUas"
      },
      "execution_count": null,
      "outputs": []
    },
    {
      "cell_type": "code",
      "source": [],
      "metadata": {
        "id": "Oidf1ZSBKUdp"
      },
      "execution_count": null,
      "outputs": []
    },
    {
      "cell_type": "code",
      "source": [],
      "metadata": {
        "id": "6SuXzdbxKUgM"
      },
      "execution_count": null,
      "outputs": []
    },
    {
      "cell_type": "code",
      "source": [],
      "metadata": {
        "id": "AlBu4NEzKUjL"
      },
      "execution_count": null,
      "outputs": []
    },
    {
      "cell_type": "code",
      "source": [],
      "metadata": {
        "id": "5DIyOrPKKUl1"
      },
      "execution_count": null,
      "outputs": []
    },
    {
      "cell_type": "code",
      "source": [],
      "metadata": {
        "id": "wVpoS5nQKUo6"
      },
      "execution_count": null,
      "outputs": []
    },
    {
      "cell_type": "code",
      "source": [],
      "metadata": {
        "id": "lJULP53wKUsY"
      },
      "execution_count": null,
      "outputs": []
    }
  ]
}