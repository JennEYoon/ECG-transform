{
  "nbformat": 4,
  "nbformat_minor": 0,
  "metadata": {
    "colab": {
      "provenance": [],
      "mount_file_id": "1_DHQrglDtOilRINenfEY0MBczLMG8Sfe",
      "authorship_tag": "ABX9TyOcPJaQJD1JvNfJRGSSqmcz",
      "include_colab_link": true
    },
    "kernelspec": {
      "name": "python3",
      "display_name": "Python 3"
    },
    "language_info": {
      "name": "python"
    }
  },
  "cells": [
    {
      "cell_type": "markdown",
      "metadata": {
        "id": "view-in-github",
        "colab_type": "text"
      },
      "source": [
        "<a href=\"https://colab.research.google.com/github/JennEYoon/ECG-transform/blob/main/notebooks/untar_data.ipynb\" target=\"_parent\"><img src=\"https://colab.research.google.com/assets/colab-badge.svg\" alt=\"Open In Colab\"/></a>"
      ]
    },
    {
      "cell_type": "code",
      "execution_count": null,
      "metadata": {
        "id": "e-3wJiNrbug3"
      },
      "outputs": [],
      "source": []
    },
    {
      "cell_type": "markdown",
      "source": [
        "Chinese large dataset load data\n",
        "Colab implimentation  \n",
        "Must link Google Drive, and copy file over.  \n",
        "Manually uploading file does not work, too big?\n",
        "\n",
        "datafile: records.tar.gz  \n",
        "Shandong Provincial Hospital (SPH) dataset\n",
        "25,770 files, 24,666 patients\n",
        "manually upload data file to Colab, in tar.gz format.\n",
        "Author: Jennifer Yoon"
      ],
      "metadata": {
        "id": "lKI53kjdbw1o"
      }
    },
    {
      "cell_type": "code",
      "source": [
        "# mount google drive\n",
        "from google.colab import drive\n",
        "drive.mount('/content/drive')\n",
        "!ls -h\n"
      ],
      "metadata": {
        "colab": {
          "base_uri": "https://localhost:8080/"
        },
        "id": "M3ipUigrd8QL",
        "outputId": "f81f373d-261e-4f29-dd72-b6c1426b4997"
      },
      "execution_count": 4,
      "outputs": [
        {
          "output_type": "stream",
          "name": "stdout",
          "text": [
            "Drive already mounted at /content/drive; to attempt to forcibly remount, call drive.mount(\"/content/drive\", force_remount=True).\n",
            "drive  sample_data\n"
          ]
        }
      ]
    },
    {
      "cell_type": "code",
      "source": [
        "# copy MyDrive/data/ECG-transform\n",
        "!cp -r /content/drive/MyDrive/data/ECG-transform/data/records.tar.gz /content/"
      ],
      "metadata": {
        "id": "90AyT1EGgDAl"
      },
      "execution_count": null,
      "outputs": []
    },
    {
      "cell_type": "code",
      "source": [
        "from google.colab import drive\n",
        "drive.mount('/content/drive')"
      ],
      "metadata": {
        "id": "qnVs8wQFgKE3"
      },
      "execution_count": null,
      "outputs": []
    },
    {
      "cell_type": "code",
      "source": [],
      "metadata": {
        "id": "3rFL0zdKgDH0"
      },
      "execution_count": null,
      "outputs": []
    },
    {
      "cell_type": "code",
      "source": [
        "# sample code:\n",
        "### To untar a .tar.gz file in Python, you can use the tarfile module:\n",
        "\n",
        "import tarfile\n",
        "\n",
        "def untar_data(filename, extract_path=\".\"):\n",
        "    \"\"\"Untars a .tar.gz file to the specified path.\"\"\"\n",
        "\n",
        "    with tarfile.open(filename, \"r:gz\") as tar:\n",
        "        tar.extractall(path=extract_path)\n",
        "\n",
        "# Example usage:\n",
        "filename = \"records.tar.gz\"\n",
        "extract_path = \"/contents/chinese_sph_dataset\"\n",
        "\n",
        "untar_data(\"my_data.tar.gz\", \"extracted_data\")"
      ],
      "metadata": {
        "id": "3OnCmNIJbv8G"
      },
      "execution_count": null,
      "outputs": []
    },
    {
      "cell_type": "code",
      "source": [],
      "metadata": {
        "id": "QjUyChE0bv-p"
      },
      "execution_count": null,
      "outputs": []
    },
    {
      "cell_type": "code",
      "source": [],
      "metadata": {
        "id": "oaqNuZWAbwBo"
      },
      "execution_count": null,
      "outputs": []
    },
    {
      "cell_type": "code",
      "source": [],
      "metadata": {
        "id": "EG_MXfeIbwEM"
      },
      "execution_count": null,
      "outputs": []
    },
    {
      "cell_type": "code",
      "source": [],
      "metadata": {
        "id": "XGlwggwzbwGv"
      },
      "execution_count": null,
      "outputs": []
    },
    {
      "cell_type": "code",
      "source": [],
      "metadata": {
        "id": "C85Kh0PHbwJS"
      },
      "execution_count": null,
      "outputs": []
    },
    {
      "cell_type": "code",
      "source": [],
      "metadata": {
        "id": "Z6veB3mMbwMv"
      },
      "execution_count": null,
      "outputs": []
    }
  ]
}