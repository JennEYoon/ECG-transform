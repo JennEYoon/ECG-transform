{
  "nbformat": 4,
  "nbformat_minor": 0,
  "metadata": {
    "colab": {
      "provenance": [],
      "mount_file_id": "1_DHQrglDtOilRINenfEY0MBczLMG8Sfe",
      "authorship_tag": "ABX9TyPIhPf1jZkfE/30C6nIv6JD",
      "include_colab_link": true
    },
    "kernelspec": {
      "name": "python3",
      "display_name": "Python 3"
    },
    "language_info": {
      "name": "python"
    }
  },
  "cells": [
    {
      "cell_type": "markdown",
      "metadata": {
        "id": "view-in-github",
        "colab_type": "text"
      },
      "source": [
        "<a href=\"https://colab.research.google.com/github/JennEYoon/ECG-transform/blob/main/notebooks/untar_data.ipynb\" target=\"_parent\"><img src=\"https://colab.research.google.com/assets/colab-badge.svg\" alt=\"Open In Colab\"/></a>"
      ]
    },
    {
      "cell_type": "code",
      "execution_count": null,
      "metadata": {
        "id": "e-3wJiNrbug3"
      },
      "outputs": [],
      "source": []
    },
    {
      "cell_type": "markdown",
      "source": [
        "# demo loading .tar.gz dataset  \n",
        "\n",
        "Example uses Chinese large ECG dataset\n",
        "\n",
        "This is a Google Colab implimentation. Recommend mounting Google Drive and copying the file over to instance, rather than trying to manually upload data file. File manually upload does not seem to work with large compressed files.    \n",
        "\n",
        "datafile: records.tar.gz  \n",
        "Google Drive path: /MyDrive/data/ECG-transforms/data/\n",
        "\n",
        "Shandong Provincial Hospital (SPH) dataset from 2022 Nature.com paper.  \n",
        "25,770 files, 24,666 patients\n",
        "2.15 GB size compressed file.\n",
        "\n",
        "Author: Jennifer Yoon"
      ],
      "metadata": {
        "id": "lKI53kjdbw1o"
      }
    },
    {
      "cell_type": "code",
      "source": [
        "# mount google drive\n",
        "from google.colab import drive\n",
        "drive.mount('/content/drive')\n",
        "!ls -h\n"
      ],
      "metadata": {
        "colab": {
          "base_uri": "https://localhost:8080/"
        },
        "id": "M3ipUigrd8QL",
        "outputId": "bfbcffb2-029e-4922-cae0-9373b5fb9c61"
      },
      "execution_count": 1,
      "outputs": [
        {
          "output_type": "stream",
          "name": "stdout",
          "text": [
            "Drive already mounted at /content/drive; to attempt to forcibly remount, call drive.mount(\"/content/drive\", force_remount=True).\n",
            "drive  records.tar.gz  sample_data\n"
          ]
        }
      ]
    },
    {
      "cell_type": "code",
      "source": [
        "# copy MyDrive/data/ECG-transform\n",
        "!cp -r /content/drive/MyDrive/data/ECG-transform/data/records.tar.gz /content/\n",
        "# !cp -r /content/drive/MyDrive/data/ECG-transform/data/records.tar.gz /content/"
      ],
      "metadata": {
        "id": "90AyT1EGgDAl"
      },
      "execution_count": 5,
      "outputs": []
    },
    {
      "cell_type": "code",
      "source": [
        "!ls -h"
      ],
      "metadata": {
        "colab": {
          "base_uri": "https://localhost:8080/"
        },
        "id": "3rFL0zdKgDH0",
        "outputId": "bb97d185-ba59-4a0b-ad8a-a821eded29a4"
      },
      "execution_count": 7,
      "outputs": [
        {
          "output_type": "stream",
          "name": "stdout",
          "text": [
            "drive  records.tar.gz  sample_data\n"
          ]
        }
      ]
    },
    {
      "cell_type": "code",
      "source": [
        "!file /content/records.tar.gz"
      ],
      "metadata": {
        "colab": {
          "base_uri": "https://localhost:8080/"
        },
        "id": "KLR4WQwGonAe",
        "outputId": "a701d123-5f7a-43e6-d850-f98abe2a7b4b"
      },
      "execution_count": 6,
      "outputs": [
        {
          "output_type": "stream",
          "name": "stdout",
          "text": [
            "/content/records.tar.gz: POSIX tar archive (GNU)\n"
          ]
        }
      ]
    },
    {
      "cell_type": "code",
      "source": [
        "# with GPT mini suggestion\n",
        "import tarfile\n",
        "\n",
        "def untar_file(filename, destination_dir):\n",
        "    try:\n",
        "        with tarfile.open(filename, \"r:gz\") as tar:\n",
        "            tar.extractall(destination_dir)\n",
        "    except tarfile.ReadError:\n",
        "        print(\"File is not a gzip-compressed tar. Trying as plain tar...\")\n",
        "        with tarfile.open(filename, \"r:\") as tar:\n",
        "            tar.extractall(destination_dir)"
      ],
      "metadata": {
        "id": "hYP29FHcv7eZ"
      },
      "execution_count": 8,
      "outputs": []
    },
    {
      "cell_type": "code",
      "source": [
        "# Example usage\n",
        "untar_file(\"records.tar.gz\", \"extracted_files\")"
      ],
      "metadata": {
        "colab": {
          "base_uri": "https://localhost:8080/"
        },
        "id": "2RK20jOd0db-",
        "outputId": "54a06fc8-4ebd-4e18-cc6f-a048be77e0bf"
      },
      "execution_count": 10,
      "outputs": [
        {
          "output_type": "stream",
          "name": "stdout",
          "text": [
            "File is not a gzip-compressed tar. Trying as plain tar...\n"
          ]
        }
      ]
    },
    {
      "cell_type": "code",
      "source": [
        "!ls\n"
      ],
      "metadata": {
        "colab": {
          "base_uri": "https://localhost:8080/"
        },
        "id": "QNdy5Arev7g1",
        "outputId": "ad2181f4-24f9-41bd-9fee-61981cab3309"
      },
      "execution_count": 11,
      "outputs": [
        {
          "output_type": "stream",
          "name": "stdout",
          "text": [
            "drive  extracted_files\trecords.tar.gz\tsample_data\n"
          ]
        }
      ]
    },
    {
      "cell_type": "markdown",
      "source": [
        "# OpenAi GPT-4 Turbo\n",
        "To count the number of files in the /contents/extracted_files/records/ folder, you can use the ls command along with wc -l, which counts the number of lines output by ls. Here's the corrected and enhanced command:\n",
        "\n",
        ">bash\n",
        ">!ls -1 /contents/extracted_files/records/ | wc -l\n",
        "\n",
        "Explanation:\n",
        "-1: Ensures that ls lists one file per line.\n",
        "wc -l: Counts the number of lines in the output, which corresponds to the number of files."
      ],
      "metadata": {
        "id": "G8cYUKsu3QTg"
      }
    },
    {
      "cell_type": "code",
      "source": [
        "!ls -1 \"extracted_files/records/\" | wc -l"
      ],
      "metadata": {
        "colab": {
          "base_uri": "https://localhost:8080/"
        },
        "id": "tKHn68PCv7jO",
        "outputId": "d72a29ff-62bd-46a2-f251-1727b44742bc"
      },
      "execution_count": 14,
      "outputs": [
        {
          "output_type": "stream",
          "name": "stdout",
          "text": [
            "25770\n"
          ]
        }
      ]
    },
    {
      "cell_type": "code",
      "source": [
        "!cp -r /content/extracted_files/records/ /content/drive/MyDrive/data/ECG-transform/data/extracted_files/records/"
      ],
      "metadata": {
        "colab": {
          "base_uri": "https://localhost:8080/"
        },
        "id": "Pvx67IO6v7kv",
        "outputId": "22215525-9b0e-4f16-f7b6-bad08918d3ba"
      },
      "execution_count": 15,
      "outputs": [
        {
          "output_type": "stream",
          "name": "stdout",
          "text": [
            "cp: cannot create directory '/content/drive/MyDrive/data/ECG-transform/data/extracted_files/records/': No such file or directory\n"
          ]
        }
      ]
    },
    {
      "cell_type": "code",
      "source": [
        "!cp -r /content/extracted_files/records/ /content/drive/MyDrive/data/ECG-transform/data/extracted_files/"
      ],
      "metadata": {
        "id": "3k7SEKZ2v7n_"
      },
      "execution_count": 16,
      "outputs": []
    },
    {
      "cell_type": "markdown",
      "source": [
        "#### Explanation:\n",
        " * cp: The command for copying files or directories.  \n",
        " * -r: Stands for \"recursive,\" allowing you to copy directories\n",
        "and their contents.\n",
        " * Source Path: /content/extracted_files/records/ is the folder you want to copy.\n",
        " * Destination Path: /content/drive/MyDrive/data/ECG-transform/data/extracted_files/ is the target directory.  \n",
        "\n",
        "#### Key Notes:\n",
        "Ensure the destination directory /content/drive/MyDrive/data/ECG-transform/data/extracted_files/ exists. If it doesn’t, you can create it first using:\n",
        "\n",
        "bash\n",
        ">!mkdir -p /content/drive/MyDrive/data/ECG-transform/data/extracted_files/\n",
        "\n",
        "If the \"records\" folder already exist\n",
        "s in the destination, this command will overwrite it. To avoid overwriting, you could rename it or use a different path.\n"
      ],
      "metadata": {
        "id": "chwqH3of59mz"
      }
    },
    {
      "cell_type": "code",
      "source": [
        "!ls -1 \"/content/drive/MyDrive/data/ECG-transform/data/extracted_files/\" | wc -l"
      ],
      "metadata": {
        "colab": {
          "base_uri": "https://localhost:8080/"
        },
        "id": "QjUyChE0bv-p",
        "outputId": "f2a5228d-53f6-4dae-9ad3-b09f18055085"
      },
      "execution_count": 17,
      "outputs": [
        {
          "output_type": "stream",
          "name": "stdout",
          "text": [
            "25770\n"
          ]
        }
      ]
    },
    {
      "cell_type": "markdown",
      "source": [
        "Check. Same number of files as above. Everything copied over. 25,770 items in folder."
      ],
      "metadata": {
        "id": "96kW3qFy7r0z"
      }
    },
    {
      "cell_type": "code",
      "source": [],
      "metadata": {
        "id": "oaqNuZWAbwBo"
      },
      "execution_count": null,
      "outputs": []
    },
    {
      "cell_type": "code",
      "source": [],
      "metadata": {
        "id": "EG_MXfeIbwEM"
      },
      "execution_count": null,
      "outputs": []
    },
    {
      "cell_type": "code",
      "source": [],
      "metadata": {
        "id": "XGlwggwzbwGv"
      },
      "execution_count": null,
      "outputs": []
    },
    {
      "cell_type": "code",
      "source": [],
      "metadata": {
        "id": "C85Kh0PHbwJS"
      },
      "execution_count": null,
      "outputs": []
    },
    {
      "cell_type": "code",
      "source": [],
      "metadata": {
        "id": "Z6veB3mMbwMv"
      },
      "execution_count": null,
      "outputs": []
    }
  ]
}