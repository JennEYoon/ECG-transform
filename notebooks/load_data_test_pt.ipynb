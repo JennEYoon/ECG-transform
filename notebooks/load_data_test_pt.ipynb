{
  "nbformat": 4,
  "nbformat_minor": 0,
  "metadata": {
    "colab": {
      "provenance": [],
      "mount_file_id": "1Zcpby38rSx__r-PRuiDOPVoDUfnxMquW",
      "authorship_tag": "ABX9TyNheQ9Gb/3qluKmd/ppSJ3H",
      "include_colab_link": true
    },
    "kernelspec": {
      "name": "python3",
      "display_name": "Python 3"
    },
    "language_info": {
      "name": "python"
    }
  },
  "cells": [
    {
      "cell_type": "markdown",
      "metadata": {
        "id": "view-in-github",
        "colab_type": "text"
      },
      "source": [
        "<a href=\"https://colab.research.google.com/github/JennEYoon/ECG-transform/blob/main/notebooks/load_data_test_pt.ipynb\" target=\"_parent\"><img src=\"https://colab.research.google.com/assets/colab-badge.svg\" alt=\"Open In Colab\"/></a>"
      ]
    },
    {
      "cell_type": "code",
      "source": [
        "# prompt: copy data file from google drive to colab\n",
        "# from google.colab import drive\n",
        "# drive.mount('/content/drive')\n",
        "\n",
        "# Now you can access files in your Google Drive from the /content/drive/MyDrive directory.\n",
        "# For example, to copy data.csv from your Google Drive to the Colab runtime:\n",
        "import torch\n",
        "\n",
        "# Load the test.pt file (which is a class dictionary)\n",
        "/content/drive/MyDrive/data/ECG-transform/data/ECGTransForm_datasets/ptb/train.pt\n",
        "\n",
        "# Get the first key-value pair from the dictionary\n",
        "first_key, first_value = next(iter(test_data.items()))\n",
        "\n",
        "# Print the first key and its corresponding value (tensor)\n",
        "print(f\"First key: {first_key}\")\n",
        "print(f\"First value: {first_value}\")\n",
        "\n",
        "# If the value is a tensor, print its shape\n",
        "if isinstance(first_value, torch.Tensor):\n",
        "    print(f\"Shape of the first value: {first_value.shape}\")\n"
      ],
      "metadata": {
        "colab": {
          "base_uri": "https://localhost:8080/"
        },
        "id": "lrvYdlnr-E9L",
        "outputId": "b4ad755c-af4d-48e7-93b7-991ae26b0b5f"
      },
      "execution_count": null,
      "outputs": [
        {
          "output_type": "stream",
          "name": "stdout",
          "text": [
            "Drive already mounted at /content/drive; to attempt to forcibly remount, call drive.mount(\"/content/drive\", force_remount=True).\n",
            "drive  sample_data  test.pt\n"
          ]
        }
      ]
    },
    {
      "cell_type": "code",
      "source": [
        "import torch\n",
        "\n",
        "# If, .pt contains tensors\n",
        "# Load the .pt file\n",
        "test_data = torch.load('/content/test.pt')\n",
        "\n",
        "# Now 'data' contains the tensor or object from the .pt file\n",
        "print(type(test_data), test_data)"
      ],
      "metadata": {
        "colab": {
          "base_uri": "https://localhost:8080/"
        },
        "id": "9YusTLZV-FB5",
        "outputId": "c90296a7-236d-428d-87e1-a72e33fb4352"
      },
      "execution_count": null,
      "outputs": [
        {
          "output_type": "stream",
          "name": "stdout",
          "text": [
            "<class 'dict'> {'samples': tensor([[[0.9970, 0.8505, 0.7337,  ..., 0.0000, 0.0000, 0.0000]],\n",
            "\n",
            "        [[0.9707, 0.5348, 0.2386,  ..., 0.0000, 0.0000, 0.0000]],\n",
            "\n",
            "        [[1.0000, 0.7487, 0.4801,  ..., 0.0000, 0.0000, 0.0000]],\n",
            "\n",
            "        ...,\n",
            "\n",
            "        [[0.9630, 0.5019, 0.3434,  ..., 0.0000, 0.0000, 0.0000]],\n",
            "\n",
            "        [[1.0000, 0.9561, 0.6102,  ..., 0.0000, 0.0000, 0.0000]],\n",
            "\n",
            "        [[1.0000, 0.8291, 0.5427,  ..., 0.0000, 0.0000, 0.0000]]]), 'labels': tensor([1., 1., 1.,  ..., 1., 1., 1.], dtype=torch.float64)}\n"
          ]
        },
        {
          "output_type": "stream",
          "name": "stderr",
          "text": [
            "<ipython-input-8-c4e15abc268f>:5: FutureWarning: You are using `torch.load` with `weights_only=False` (the current default value), which uses the default pickle module implicitly. It is possible to construct malicious pickle data which will execute arbitrary code during unpickling (See https://github.com/pytorch/pytorch/blob/main/SECURITY.md#untrusted-models for more details). In a future release, the default value for `weights_only` will be flipped to `True`. This limits the functions that could be executed during unpickling. Arbitrary objects will no longer be allowed to be loaded via this mode unless they are explicitly allowlisted by the user via `torch.serialization.add_safe_globals`. We recommend you start setting `weights_only=True` for any use case where you don't have full control of the loaded file. Please open an issue on GitHub for any issues related to this experimental feature.\n",
            "  test_data = torch.load('/content/test.pt')\n"
          ]
        }
      ]
    },
    {
      "cell_type": "code",
      "source": [
        "# Inspect the data\n",
        "\n"
      ],
      "metadata": {
        "colab": {
          "base_uri": "https://localhost:8080/"
        },
        "id": "tcah1ivQDnuD",
        "outputId": "6c941ec2-e6b1-4cbb-8519-e490edfbb58e"
      },
      "execution_count": null,
      "outputs": [
        {
          "output_type": "stream",
          "name": "stdout",
          "text": [
            "<class 'dict'> {'samples': tensor([[[0.9970, 0.8505, 0.7337,  ..., 0.0000, 0.0000, 0.0000]],\n",
            "\n",
            "        [[0.9707, 0.5348, 0.2386,  ..., 0.0000, 0.0000, 0.0000]],\n",
            "\n",
            "        [[1.0000, 0.7487, 0.4801,  ..., 0.0000, 0.0000, 0.0000]],\n",
            "\n",
            "        ...,\n",
            "\n",
            "        [[0.9630, 0.5019, 0.3434,  ..., 0.0000, 0.0000, 0.0000]],\n",
            "\n",
            "        [[1.0000, 0.9561, 0.6102,  ..., 0.0000, 0.0000, 0.0000]],\n",
            "\n",
            "        [[1.0000, 0.8291, 0.5427,  ..., 0.0000, 0.0000, 0.0000]]]), 'labels': tensor([1., 1., 1.,  ..., 1., 1., 1.], dtype=torch.float64)}\n"
          ]
        }
      ]
    },
    {
      "cell_type": "code",
      "source": [
        "# Check each key-value pair in the dictionary\n",
        "for key, value in test_data.items():\n",
        "    print(f\"Key: {key}, Type: {type(value)}\")\n",
        "\n",
        "    # If the value is a tensor, print its shape\n",
        "    if isinstance(value, torch.Tensor):\n",
        "        print(f\"Shape of {key}: {value.shape}\")\n"
      ],
      "metadata": {
        "colab": {
          "base_uri": "https://localhost:8080/"
        },
        "id": "50kju6I0GsPv",
        "outputId": "0cd6fa2d-f486-4a2d-b6f4-ef49ae7401c3"
      },
      "execution_count": 14,
      "outputs": [
        {
          "output_type": "stream",
          "name": "stdout",
          "text": [
            "Key: samples, Type: <class 'torch.Tensor'>\n",
            "Shape of samples: torch.Size([2909, 1, 186])\n",
            "Key: labels, Type: <class 'torch.Tensor'>\n",
            "Shape of labels: torch.Size([2909])\n"
          ]
        }
      ]
    },
    {
      "cell_type": "code",
      "source": [
        "!cp /content/drive/MyDrive/data/ECG-transform/data/ECGTransForm_datasets/ptb/train.pt /content/train.pt\n",
        "!ls -lh\n"
      ],
      "metadata": {
        "colab": {
          "base_uri": "https://localhost:8080/"
        },
        "id": "DQugLLdjJyIZ",
        "outputId": "bed1bf26-f10c-4c42-db2d-cdd42555ec30"
      },
      "execution_count": 11,
      "outputs": [
        {
          "output_type": "stream",
          "name": "stdout",
          "text": [
            "total 8.8M\n",
            "drwx------ 7 root root 4.0K Jan  3 20:56 drive\n",
            "drwxr-xr-x 1 root root 4.0K Jan  2 14:19 sample_data\n",
            "-rw------- 1 root root 2.1M Jan  3 21:13 test.pt\n",
            "-rw------- 1 root root 6.7M Jan  3 21:58 train.pt\n"
          ]
        }
      ]
    },
    {
      "cell_type": "code",
      "source": [
        "train_data = torch.load('/content/train.pt')\n",
        "print(type(train_data), train_data)"
      ],
      "metadata": {
        "colab": {
          "base_uri": "https://localhost:8080/"
        },
        "id": "mkF1xXZQJ9Dl",
        "outputId": "66a9fd9e-92ac-415b-a9e9-1bbda35fa241"
      },
      "execution_count": 13,
      "outputs": [
        {
          "output_type": "stream",
          "name": "stdout",
          "text": [
            "<class 'dict'> {'samples': tensor([[[0.9388, 0.9636, 0.4014,  ..., 0.0000, 0.0000, 0.0000]],\n",
            "\n",
            "        [[1.0000, 0.3923, 0.0739,  ..., 0.0000, 0.0000, 0.0000]],\n",
            "\n",
            "        [[0.9844, 0.6908, 0.4414,  ..., 0.0000, 0.0000, 0.0000]],\n",
            "\n",
            "        ...,\n",
            "\n",
            "        [[1.0000, 0.5106, 0.0361,  ..., 0.0000, 0.0000, 0.0000]],\n",
            "\n",
            "        [[1.0000, 0.7641, 0.5030,  ..., 0.0000, 0.0000, 0.0000]],\n",
            "\n",
            "        [[0.9467, 0.8315, 0.6288,  ..., 0.0000, 0.0000, 0.0000]]]), 'labels': tensor([1., 1., 0.,  ..., 1., 1., 1.], dtype=torch.float64)}\n"
          ]
        },
        {
          "output_type": "stream",
          "name": "stderr",
          "text": [
            "<ipython-input-13-2449c684ba57>:1: FutureWarning: You are using `torch.load` with `weights_only=False` (the current default value), which uses the default pickle module implicitly. It is possible to construct malicious pickle data which will execute arbitrary code during unpickling (See https://github.com/pytorch/pytorch/blob/main/SECURITY.md#untrusted-models for more details). In a future release, the default value for `weights_only` will be flipped to `True`. This limits the functions that could be executed during unpickling. Arbitrary objects will no longer be allowed to be loaded via this mode unless they are explicitly allowlisted by the user via `torch.serialization.add_safe_globals`. We recommend you start setting `weights_only=True` for any use case where you don't have full control of the loaded file. Please open an issue on GitHub for any issues related to this experimental feature.\n",
            "  train_data = torch.load('/content/train.pt')\n"
          ]
        }
      ]
    },
    {
      "cell_type": "code",
      "source": [
        "# Check each key-value pair in the dictionary\n",
        "for key, value in train_data.items():\n",
        "    print(f\"Key: {key}, Type: {type(value)}\")\n",
        "\n",
        "    # If the value is a tensor, print its shape\n",
        "    if isinstance(value, torch.Tensor):\n",
        "        print(f\"Shape of {key}: {value.shape}\")\n"
      ],
      "metadata": {
        "colab": {
          "base_uri": "https://localhost:8080/"
        },
        "id": "rPAS97BZJ9Mw",
        "outputId": "760ee8c5-7f4f-44fa-9fd1-9ca529584d7b"
      },
      "execution_count": 15,
      "outputs": [
        {
          "output_type": "stream",
          "name": "stdout",
          "text": [
            "Key: samples, Type: <class 'torch.Tensor'>\n",
            "Shape of samples: torch.Size([9308, 1, 186])\n",
            "Key: labels, Type: <class 'torch.Tensor'>\n",
            "Shape of labels: torch.Size([9308])\n"
          ]
        }
      ]
    },
    {
      "cell_type": "code",
      "source": [
        "#print(train_data['samples': [1, 1, :], 'labels': [1, 1]])\n",
        "tensor = train_data['samples']  # Replace 'inputs' with the correct key\n",
        "first_row = tensor[0]  # This gives the first row (shape: [1, 186])\n",
        ".\n",
        "first_row\n"
      ],
      "metadata": {
        "colab": {
          "base_uri": "https://localhost:8080/"
        },
        "id": "R3iNqsbfJycE",
        "outputId": "80137de1-7476-48de-cb20-7f9528c1c98d"
      },
      "execution_count": 19,
      "outputs": [
        {
          "output_type": "execute_result",
          "data": {
            "text/plain": [
              "tensor([[0.9388, 0.9636, 0.4014, 0.2790, 0.2557, 0.1526, 0.0777, 0.0811, 0.0729,\n",
              "         0.0557, 0.0708, 0.0564, 0.0625, 0.0674, 0.0515, 0.0619, 0.0467, 0.0612,\n",
              "         0.0570, 0.0467, 0.0639, 0.0543, 0.0584, 0.0653, 0.0454, 0.0646, 0.0632,\n",
              "         0.0756, 0.0797, 0.0742, 0.1031, 0.0997, 0.1148, 0.1216, 0.1052, 0.1230,\n",
              "         0.1031, 0.1017, 0.1031, 0.0914, 0.1045, 0.0976, 0.0942, 0.1052, 0.0859,\n",
              "         0.0983, 0.0797, 0.0955, 0.1024, 0.0907, 0.1072, 0.1086, 0.1155, 0.1244,\n",
              "         0.1134, 0.1251, 0.1230, 0.1326, 0.1216, 0.1086, 0.1203, 0.1230, 0.1794,\n",
              "         0.2254, 0.2172, 0.2708, 0.2605, 0.2687, 0.2625, 0.1890, 0.1856, 0.1278,\n",
              "         0.0948, 0.0729, 0.0515, 0.0570, 0.0557, 0.0605, 0.0570, 0.0495, 0.0577,\n",
              "         0.0577, 0.1993, 0.4687, 0.6323, 1.0000, 0.6722, 0.3251, 0.2144, 0.1746,\n",
              "         0.0570, 0.0337, 0.0412, 0.0268, 0.0117, 0.0082, 0.0000, 0.0151, 0.0055,\n",
              "         0.0000, 0.0000, 0.0000, 0.0000, 0.0000, 0.0000, 0.0000, 0.0000, 0.0000,\n",
              "         0.0000, 0.0000, 0.0000, 0.0000, 0.0000, 0.0000, 0.0000, 0.0000, 0.0000,\n",
              "         0.0000, 0.0000, 0.0000, 0.0000, 0.0000, 0.0000, 0.0000, 0.0000, 0.0000,\n",
              "         0.0000, 0.0000, 0.0000, 0.0000, 0.0000, 0.0000, 0.0000, 0.0000, 0.0000,\n",
              "         0.0000, 0.0000, 0.0000, 0.0000, 0.0000, 0.0000, 0.0000, 0.0000, 0.0000,\n",
              "         0.0000, 0.0000, 0.0000, 0.0000, 0.0000, 0.0000, 0.0000, 0.0000, 0.0000,\n",
              "         0.0000, 0.0000, 0.0000, 0.0000, 0.0000, 0.0000, 0.0000, 0.0000, 0.0000,\n",
              "         0.0000, 0.0000, 0.0000, 0.0000, 0.0000, 0.0000, 0.0000, 0.0000, 0.0000,\n",
              "         0.0000, 0.0000, 0.0000, 0.0000, 0.0000, 0.0000, 0.0000, 0.0000, 0.0000,\n",
              "         0.0000, 0.0000, 0.0000, 0.0000, 0.0000, 0.0000]])"
            ]
          },
          "metadata": {},
          "execution_count": 19
        }
      ]
    },
    {
      "cell_type": "code",
      "source": [
        "tensor = train_data['labels']  # Replace 'inputs' with the correct key\n",
        "first_row = tensor[0]  # This gives the first row (shape: [1, 186])\n",
        "first_row"
      ],
      "metadata": {
        "colab": {
          "base_uri": "https://localhost:8080/"
        },
        "id": "p2S-oS_FSUCx",
        "outputId": "4b6b0486-4e42-4e3c-beb7-cb7d3ee1e73a"
      },
      "execution_count": 20,
      "outputs": [
        {
          "output_type": "execute_result",
          "data": {
            "text/plain": [
              "tensor(1., dtype=torch.float64)"
            ]
          },
          "metadata": {},
          "execution_count": 20
        }
      ]
    },
    {
      "cell_type": "code",
      "source": [
        "tensor[0:20]"
      ],
      "metadata": {
        "colab": {
          "base_uri": "https://localhost:8080/"
        },
        "id": "oLGWstNTSUGA",
        "outputId": "eb217bc0-9bf9-464f-beb7-289eab9170df"
      },
      "execution_count": 21,
      "outputs": [
        {
          "output_type": "execute_result",
          "data": {
            "text/plain": [
              "tensor([1., 1., 0., 0., 0., 1., 1., 1., 1., 0., 0., 1., 0., 0., 0., 0., 1., 1.,\n",
              "        1., 1.], dtype=torch.float64)"
            ]
          },
          "metadata": {},
          "execution_count": 21
        }
      ]
    },
    {
      "cell_type": "code",
      "source": [],
      "metadata": {
        "id": "pSj4efOCSUKD"
      },
      "execution_count": null,
      "outputs": []
    },
    {
      "cell_type": "code",
      "source": [],
      "metadata": {
        "id": "5U7BD-YxSXHg"
      },
      "execution_count": null,
      "outputs": []
    }
  ]
}