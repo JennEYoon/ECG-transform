{
  "nbformat": 4,
  "nbformat_minor": 0,
  "metadata": {
    "colab": {
      "provenance": [],
      "mount_file_id": "1Zcpby38rSx__r-PRuiDOPVoDUfnxMquW",
      "authorship_tag": "ABX9TyO6isTYdAFfPcsoaxRIQ3SW",
      "include_colab_link": true
    },
    "kernelspec": {
      "name": "python3",
      "display_name": "Python 3"
    },
    "language_info": {
      "name": "python"
    }
  },
  "cells": [
    {
      "cell_type": "markdown",
      "metadata": {
        "id": "view-in-github",
        "colab_type": "text"
      },
      "source": [
        "<a href=\"https://colab.research.google.com/github/JennEYoon/ECG-transform/blob/main/notebooks/load_data_test_pt.ipynb\" target=\"_parent\"><img src=\"https://colab.research.google.com/assets/colab-badge.svg\" alt=\"Open In Colab\"/></a>"
      ]
    },
    {
      "cell_type": "code",
      "source": [
        "# mount google drive and copy data file from google drive to colab\n",
        "from google.colab import drive\n",
        "drive.mount('/content/drive')\n",
        "\n",
        "!cp /content/drive/MyDrive/data/ECG-transform/data/ECGTransForm_datasets/ptb/test.pt /content/test.pt\n",
        "!ls"
      ],
      "metadata": {
        "colab": {
          "base_uri": "https://localhost:8080/"
        },
        "id": "lrvYdlnr-E9L",
        "outputId": "92fc5d51-8e8b-4d32-b0fa-b9ad3d887135"
      },
      "execution_count": null,
      "outputs": [
        {
          "output_type": "stream",
          "name": "stdout",
          "text": [
            "Drive already mounted at /content/drive; to attempt to forcibly remount, call drive.mount(\"/content/drive\", force_remount=True).\n",
            "drive  sample_data  test.pt  train.pt\n"
          ]
        }
      ]
    },
    {
      "cell_type": "code",
      "source": [
        "import torch\n",
        "\n",
        "# If, .pt contains tensors\n",
        "# Load the .pt file\n",
        "test_data = torch.load('/content/test.pt')\n",
        "\n",
        "# Now 'data' contains the tensor or object from the .pt file\n",
        "print(type(test_data), test_data)"
      ],
      "metadata": {
        "colab": {
          "base_uri": "https://localhost:8080/"
        },
        "id": "9YusTLZV-FB5",
        "outputId": "e6b826a0-4de5-4d88-d168-f3adab01fdbf"
      },
      "execution_count": 1,
      "outputs": [
        {
          "output_type": "stream",
          "name": "stdout",
          "text": [
            "<class 'dict'> {'samples': tensor([[[0.9970, 0.8505, 0.7337,  ..., 0.0000, 0.0000, 0.0000]],\n",
            "\n",
            "        [[0.9707, 0.5348, 0.2386,  ..., 0.0000, 0.0000, 0.0000]],\n",
            "\n",
            "        [[1.0000, 0.7487, 0.4801,  ..., 0.0000, 0.0000, 0.0000]],\n",
            "\n",
            "        ...,\n",
            "\n",
            "        [[0.9630, 0.5019, 0.3434,  ..., 0.0000, 0.0000, 0.0000]],\n",
            "\n",
            "        [[1.0000, 0.9561, 0.6102,  ..., 0.0000, 0.0000, 0.0000]],\n",
            "\n",
            "        [[1.0000, 0.8291, 0.5427,  ..., 0.0000, 0.0000, 0.0000]]]), 'labels': tensor([1., 1., 1.,  ..., 1., 1., 1.], dtype=torch.float64)}\n"
          ]
        },
        {
          "output_type": "stream",
          "name": "stderr",
          "text": [
            "<ipython-input-1-db1a0552fd6e>:5: FutureWarning: You are using `torch.load` with `weights_only=False` (the current default value), which uses the default pickle module implicitly. It is possible to construct malicious pickle data which will execute arbitrary code during unpickling (See https://github.com/pytorch/pytorch/blob/main/SECURITY.md#untrusted-models for more details). In a future release, the default value for `weights_only` will be flipped to `True`. This limits the functions that could be executed during unpickling. Arbitrary objects will no longer be allowed to be loaded via this mode unless they are explicitly allowlisted by the user via `torch.serialization.add_safe_globals`. We recommend you start setting `weights_only=True` for any use case where you don't have full control of the loaded file. Please open an issue on GitHub for any issues related to this experimental feature.\n",
            "  test_data = torch.load('/content/test.pt')\n"
          ]
        }
      ]
    },
    {
      "cell_type": "code",
      "source": [
        "# Inspect the data\n",
        "\n"
      ],
      "metadata": {
        "id": "tcah1ivQDnuD"
      },
      "execution_count": null,
      "outputs": []
    },
    {
      "cell_type": "code",
      "source": [
        "# Check each key-value pair in the dictionary\n",
        "for key, value in test_data.items():\n",
        "    print(f\"Key: {key}, Type: {type(value)}\")\n",
        "\n",
        "    # If the value is a tensor, print its shape\n",
        "    if isinstance(value, torch.Tensor):\n",
        "        print(f\"Shape of {key}: {value.shape}\")\n"
      ],
      "metadata": {
        "colab": {
          "base_uri": "https://localhost:8080/"
        },
        "id": "50kju6I0GsPv",
        "outputId": "5b842762-04d1-4498-ace9-427b6b28ef48"
      },
      "execution_count": 2,
      "outputs": [
        {
          "output_type": "stream",
          "name": "stdout",
          "text": [
            "Key: samples, Type: <class 'torch.Tensor'>\n",
            "Shape of samples: torch.Size([2909, 1, 186])\n",
            "Key: labels, Type: <class 'torch.Tensor'>\n",
            "Shape of labels: torch.Size([2909])\n"
          ]
        }
      ]
    },
    {
      "cell_type": "code",
      "source": [
        "!cp /content/drive/MyDrive/data/ECG-transform/data/ECGTransForm_datasets/ptb/train.pt /content/train.pt\n",
        "!ls -lh\n"
      ],
      "metadata": {
        "colab": {
          "base_uri": "https://localhost:8080/"
        },
        "id": "DQugLLdjJyIZ",
        "outputId": "4204649e-6e7c-4699-f857-1b6bfa35167a"
      },
      "execution_count": null,
      "outputs": [
        {
          "output_type": "stream",
          "name": "stdout",
          "text": [
            "total 8.8M\n",
            "drwx------ 7 root root 4.0K Jan  3 20:56 drive\n",
            "drwxr-xr-x 1 root root 4.0K Jan  2 14:19 sample_data\n",
            "-rw------- 1 root root 2.1M Jan  3 22:51 test.pt\n",
            "-rw------- 1 root root 6.7M Jan  3 22:51 train.pt\n"
          ]
        }
      ]
    },
    {
      "cell_type": "code",
      "source": [
        "train_data = torch.load('/content/train.pt')\n",
        "print(type(train_data), train_data)"
      ],
      "metadata": {
        "colab": {
          "base_uri": "https://localhost:8080/"
        },
        "id": "mkF1xXZQJ9Dl",
        "outputId": "a916c9a7-ecec-423d-c04c-c3831d253072"
      },
      "execution_count": 3,
      "outputs": [
        {
          "output_type": "stream",
          "name": "stdout",
          "text": [
            "<class 'dict'> {'samples': tensor([[[0.9388, 0.9636, 0.4014,  ..., 0.0000, 0.0000, 0.0000]],\n",
            "\n",
            "        [[1.0000, 0.3923, 0.0739,  ..., 0.0000, 0.0000, 0.0000]],\n",
            "\n",
            "        [[0.9844, 0.6908, 0.4414,  ..., 0.0000, 0.0000, 0.0000]],\n",
            "\n",
            "        ...,\n",
            "\n",
            "        [[1.0000, 0.5106, 0.0361,  ..., 0.0000, 0.0000, 0.0000]],\n",
            "\n",
            "        [[1.0000, 0.7641, 0.5030,  ..., 0.0000, 0.0000, 0.0000]],\n",
            "\n",
            "        [[0.9467, 0.8315, 0.6288,  ..., 0.0000, 0.0000, 0.0000]]]), 'labels': tensor([1., 1., 0.,  ..., 1., 1., 1.], dtype=torch.float64)}\n"
          ]
        },
        {
          "output_type": "stream",
          "name": "stderr",
          "text": [
            "<ipython-input-3-2449c684ba57>:1: FutureWarning: You are using `torch.load` with `weights_only=False` (the current default value), which uses the default pickle module implicitly. It is possible to construct malicious pickle data which will execute arbitrary code during unpickling (See https://github.com/pytorch/pytorch/blob/main/SECURITY.md#untrusted-models for more details). In a future release, the default value for `weights_only` will be flipped to `True`. This limits the functions that could be executed during unpickling. Arbitrary objects will no longer be allowed to be loaded via this mode unless they are explicitly allowlisted by the user via `torch.serialization.add_safe_globals`. We recommend you start setting `weights_only=True` for any use case where you don't have full control of the loaded file. Please open an issue on GitHub for any issues related to this experimental feature.\n",
            "  train_data = torch.load('/content/train.pt')\n"
          ]
        }
      ]
    },
    {
      "cell_type": "code",
      "source": [
        "# Check each key-value pair in the dictionary\n",
        "for key, value in train_data.items():\n",
        "    print(f\"Key: {key}, Type: {type(value)}\")\n",
        "\n",
        "    # If the value is a tensor, print its shape\n",
        "    if isinstance(value, torch.Tensor):\n",
        "        print(f\"Shape of {key}: {value.shape}\")\n"
      ],
      "metadata": {
        "colab": {
          "base_uri": "https://localhost:8080/"
        },
        "id": "rPAS97BZJ9Mw",
        "outputId": "76813682-b167-4200-90c9-fad5c2723663"
      },
      "execution_count": 4,
      "outputs": [
        {
          "output_type": "stream",
          "name": "stdout",
          "text": [
            "Key: samples, Type: <class 'torch.Tensor'>\n",
            "Shape of samples: torch.Size([9308, 1, 186])\n",
            "Key: labels, Type: <class 'torch.Tensor'>\n",
            "Shape of labels: torch.Size([9308])\n"
          ]
        }
      ]
    },
    {
      "cell_type": "code",
      "source": [
        "#print(train_data['samples': [1, 1, :], 'labels': [1, 1]])\n",
        "tensor = train_data['samples']  # Replace 'inputs' with the correct key\n",
        "first_row = tensor[0]  # This gives the first row (shape: [1, 186])\n",
        "\n",
        "first_row\n"
      ],
      "metadata": {
        "colab": {
          "base_uri": "https://localhost:8080/"
        },
        "id": "R3iNqsbfJycE",
        "outputId": "cb697504-6eef-4a07-e47c-ba2d2e384d33"
      },
      "execution_count": 5,
      "outputs": [
        {
          "output_type": "execute_result",
          "data": {
            "text/plain": [
              "tensor([[0.9388, 0.9636, 0.4014, 0.2790, 0.2557, 0.1526, 0.0777, 0.0811, 0.0729,\n",
              "         0.0557, 0.0708, 0.0564, 0.0625, 0.0674, 0.0515, 0.0619, 0.0467, 0.0612,\n",
              "         0.0570, 0.0467, 0.0639, 0.0543, 0.0584, 0.0653, 0.0454, 0.0646, 0.0632,\n",
              "         0.0756, 0.0797, 0.0742, 0.1031, 0.0997, 0.1148, 0.1216, 0.1052, 0.1230,\n",
              "         0.1031, 0.1017, 0.1031, 0.0914, 0.1045, 0.0976, 0.0942, 0.1052, 0.0859,\n",
              "         0.0983, 0.0797, 0.0955, 0.1024, 0.0907, 0.1072, 0.1086, 0.1155, 0.1244,\n",
              "         0.1134, 0.1251, 0.1230, 0.1326, 0.1216, 0.1086, 0.1203, 0.1230, 0.1794,\n",
              "         0.2254, 0.2172, 0.2708, 0.2605, 0.2687, 0.2625, 0.1890, 0.1856, 0.1278,\n",
              "         0.0948, 0.0729, 0.0515, 0.0570, 0.0557, 0.0605, 0.0570, 0.0495, 0.0577,\n",
              "         0.0577, 0.1993, 0.4687, 0.6323, 1.0000, 0.6722, 0.3251, 0.2144, 0.1746,\n",
              "         0.0570, 0.0337, 0.0412, 0.0268, 0.0117, 0.0082, 0.0000, 0.0151, 0.0055,\n",
              "         0.0000, 0.0000, 0.0000, 0.0000, 0.0000, 0.0000, 0.0000, 0.0000, 0.0000,\n",
              "         0.0000, 0.0000, 0.0000, 0.0000, 0.0000, 0.0000, 0.0000, 0.0000, 0.0000,\n",
              "         0.0000, 0.0000, 0.0000, 0.0000, 0.0000, 0.0000, 0.0000, 0.0000, 0.0000,\n",
              "         0.0000, 0.0000, 0.0000, 0.0000, 0.0000, 0.0000, 0.0000, 0.0000, 0.0000,\n",
              "         0.0000, 0.0000, 0.0000, 0.0000, 0.0000, 0.0000, 0.0000, 0.0000, 0.0000,\n",
              "         0.0000, 0.0000, 0.0000, 0.0000, 0.0000, 0.0000, 0.0000, 0.0000, 0.0000,\n",
              "         0.0000, 0.0000, 0.0000, 0.0000, 0.0000, 0.0000, 0.0000, 0.0000, 0.0000,\n",
              "         0.0000, 0.0000, 0.0000, 0.0000, 0.0000, 0.0000, 0.0000, 0.0000, 0.0000,\n",
              "         0.0000, 0.0000, 0.0000, 0.0000, 0.0000, 0.0000, 0.0000, 0.0000, 0.0000,\n",
              "         0.0000, 0.0000, 0.0000, 0.0000, 0.0000, 0.0000]])"
            ]
          },
          "metadata": {},
          "execution_count": 5
        }
      ]
    },
    {
      "cell_type": "code",
      "source": [
        "tensor = train_data['labels']  # Replace 'inputs' with the correct key\n",
        "first_row = tensor[0]  # This gives the first row (shape: [1])\n",
        "first_row"
      ],
      "metadata": {
        "colab": {
          "base_uri": "https://localhost:8080/"
        },
        "id": "p2S-oS_FSUCx",
        "outputId": "e79c4ad0-7fe9-4574-9c85-47c11889fb82"
      },
      "execution_count": 6,
      "outputs": [
        {
          "output_type": "execute_result",
          "data": {
            "text/plain": [
              "tensor(1., dtype=torch.float64)"
            ]
          },
          "metadata": {},
          "execution_count": 6
        }
      ]
    },
    {
      "cell_type": "code",
      "source": [
        "tensor[0:20]"
      ],
      "metadata": {
        "colab": {
          "base_uri": "https://localhost:8080/"
        },
        "id": "oLGWstNTSUGA",
        "outputId": "36464eef-b63a-492c-d3d6-01860b510b0f"
      },
      "execution_count": 7,
      "outputs": [
        {
          "output_type": "execute_result",
          "data": {
            "text/plain": [
              "tensor([1., 1., 0., 0., 0., 1., 1., 1., 1., 0., 0., 1., 0., 0., 0., 0., 1., 1.,\n",
              "        1., 1.], dtype=torch.float64)"
            ]
          },
          "metadata": {},
          "execution_count": 7
        }
      ]
    },
    {
      "cell_type": "code",
      "source": [
        "# Labels are 1s and 0s.  Later expand ptb data labels for different classes.\n",
        "# Also how are different device leads treated? Not differentiated from source data?\n",
        "\n",
        "\n",
        "\n"
      ],
      "metadata": {
        "id": "pSj4efOCSUKD"
      },
      "execution_count": 8,
      "outputs": []
    },
    {
      "cell_type": "markdown",
      "source": [
        "# Export as csv to use in other CNN notebook\n",
        " Continue Jan 7, 2025 12pm Jennifer Yoon"
      ],
      "metadata": {
        "id": "1JYzrNOzwLbl"
      }
    },
    {
      "cell_type": "code",
      "source": [
        "print(test_data.shape, train_data.shape)"
      ],
      "metadata": {
        "id": "5U7BD-YxSXHg",
        "outputId": "69712af5-fee7-4df9-89c2-f0ab0e9e2a9b",
        "colab": {
          "base_uri": "https://localhost:8080/",
          "height": 145
        }
      },
      "execution_count": 9,
      "outputs": [
        {
          "output_type": "error",
          "ename": "AttributeError",
          "evalue": "'dict' object has no attribute 'shape'",
          "traceback": [
            "\u001b[0;31m---------------------------------------------------------------------------\u001b[0m",
            "\u001b[0;31mAttributeError\u001b[0m                            Traceback (most recent call last)",
            "\u001b[0;32m<ipython-input-9-38998a37598f>\u001b[0m in \u001b[0;36m<cell line: 1>\u001b[0;34m()\u001b[0m\n\u001b[0;32m----> 1\u001b[0;31m \u001b[0mprint\u001b[0m\u001b[0;34m(\u001b[0m\u001b[0mtest_data\u001b[0m\u001b[0;34m.\u001b[0m\u001b[0mshape\u001b[0m\u001b[0;34m,\u001b[0m \u001b[0mtrain_data\u001b[0m\u001b[0;34m.\u001b[0m\u001b[0mshape\u001b[0m\u001b[0;34m)\u001b[0m\u001b[0;34m\u001b[0m\u001b[0;34m\u001b[0m\u001b[0m\n\u001b[0m",
            "\u001b[0;31mAttributeError\u001b[0m: 'dict' object has no attribute 'shape'"
          ]
        }
      ]
    },
    {
      "cell_type": "code",
      "source": [],
      "metadata": {
        "id": "caAygImcxHHz"
      },
      "execution_count": null,
      "outputs": []
    },
    {
      "cell_type": "markdown",
      "source": [
        "To export a PyTorch array to a CSV file, you can follow these steps:  \n",
        "\n",
        "Convert the array to a NumPy array:\n",
        "\n",
        "   import torch\n",
        "   import numpy as np\n",
        "\n",
        "   # Create a sample PyTorch tensor\n",
        "   tensor = torch.randn(3, 2)\n",
        "\n",
        "   # Convert to NumPy array\n",
        "   numpy_array = tensor.numpy()\n",
        "\n",
        "   # Use numpy.savetxt to save the array to CSV:\n",
        "   np.savetxt(\"data.csv\", numpy_array, delimiter=\",\")\n",
        "\n",
        "Alternative method using Pandas:\n",
        "Convert the array to a Pandas DataFrame:\n",
        "\n",
        "   import pandas as pd\n",
        "\n",
        "   # Convert to DataFrame\n",
        "   df = pd.DataFrame(numpy_array)\n",
        "\n",
        "   # Use df.to_csv to save the DataFrame to CSV:\n",
        "   df.to_csv(\"data.csv\", index=False)\n"
      ],
      "metadata": {
        "id": "YHikBFJjzq08"
      }
    },
    {
      "cell_type": "markdown",
      "source": [],
      "metadata": {
        "id": "h2iPkU7mzq_y"
      }
    }
  ]
}